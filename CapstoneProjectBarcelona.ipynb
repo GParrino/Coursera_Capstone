{
  "nbformat": 4,
  "nbformat_minor": 0,
  "metadata": {
    "colab": {
      "name": "CapstoneProjectBarcelona.ipynb",
      "version": "0.3.2",
      "provenance": [],
      "include_colab_link": true
    },
    "language_info": {
      "codemirror_mode": {
        "name": "ipython",
        "version": 3
      },
      "file_extension": ".py",
      "mimetype": "text/x-python",
      "name": "python",
      "nbconvert_exporter": "python",
      "pygments_lexer": "ipython3",
      "version": "3.7.3"
    },
    "kernelspec": {
      "display_name": "Python 3",
      "language": "python",
      "name": "python3"
    }
  },
  "cells": [
    {
      "cell_type": "markdown",
      "metadata": {
        "id": "view-in-github",
        "colab_type": "text"
      },
      "source": [
        "<a href=\"https://colab.research.google.com/github/GParrino/Coursera_Capstone/blob/master/CapstoneProjectBarcelona.ipynb\" target=\"_parent\"><img src=\"https://colab.research.google.com/assets/colab-badge.svg\" alt=\"Open In Colab\"/></a>"
      ]
    },
    {
      "cell_type": "markdown",
      "metadata": {
        "id": "4cCLQTkS1t-r",
        "colab_type": "text"
      },
      "source": [
        "# Barcelona: tourists vs. residents?\n",
        "\n",
        "### Problem description and background\n",
        "\n",
        "A big city with a lot of attractions, in front of the Mediterranean sea, with wonderful climate and food... that's Barcelona!\n",
        "\n",
        "Millions of tourists come to this city every year, in every season, to enjoy its beaches, go to its sport teams matches, and visit its most important museums (8 UNESCO World Heritage Sites). It is considered the most popular city to visit in Spain. However, this has a strong impact on the apartments value near to the most popular places: official actions have been taken by the mayor to moderate the problem (source: Wikipedia). \n",
        "\n",
        "This project will analyze the historical trend of the average rent and sell values in Barcelona districts from 2014 to 2018.\n",
        "Moreover, a geographical analysis of the districts will be setup, focusing on important facilities for residents and tourists: public transportation and bicing stations. An additional map layer will focus on main tourists attractions locations and venues explorations.\n",
        "\n",
        "Main goal is to understand better the tourism business impact on Barcelona residents' life and find an eventual correlation by house prices and facilities / points of interests nearby. \n",
        "\n",
        "Barcelona city administration could find it helpful for deeper understanding of the current status of the different districts / barrios and useful to check where additional improvements should be performed. Newcomers or investors could also use this project to evaluate the most profitable zones for investments."
      ]
    },
    {
      "cell_type": "markdown",
      "metadata": {
        "id": "veSaNGt41t-t",
        "colab_type": "text"
      },
      "source": [
        "### Data description and source\n",
        "\n",
        "Barcelona Ajuntament (City Hall) has an extensive collection of open datasets: https://opendata-ajuntament.barcelona.cat/en/\n",
        "The Catalogue section is very easy to analyze and is divided in different themes. For my analysis, I chose:\n",
        "* __Territory / Housing__\n",
        "\n",
        "    1. Average monthly rent (€ / month) and average rent per surface (€ / m2 per month) of the city of Barcelona: https://opendata-ajuntament.barcelona.cat/data/en/dataset/est-mercat-immobiliari-lloguer-mitja-mensual, downloading the data from 2014 to 2018\n",
        "    2. Purchase of registered properties of the city of Barcelona. Average surface: https://opendata-ajuntament.barcelona.cat/data/en/dataset/est-mercat-immobiliari-compravenda-sup, downloading the data from 2014 to 2018\n",
        "    \n",
        "These two datasets will be analyzed to check the historical trends for the years 2014-2018: they are split by district and by quarter. Goal is to compare the relative difference among the different quarters / years and districts: the trend analysis comparison between rent and sale will also be performed.\n",
        "\n",
        "* __City and Services / Transport__\n",
        "\n",
        "    1. Bus stops of the city of Barcelona: https://opendata-ajuntament.barcelona.cat/data/en/dataset/estacions-bus\n",
        "    2. Public transports of the city of Barcelona: https://opendata-ajuntament.barcelona.cat/data/en/dataset/transports\n",
        "    \n",
        "In the second part of the project, these datasets will be superimposed on the districts map by Folium library: public transportations services and bikes rental play a huge role in a city lifestyle, whether you are a resident or a tourist. Efficient public transportation / bike rental services will contribute to reduce the pollution and the traffic and they are considered to have a positive effect on house rent and sell values.\n",
        "          \n",
        "In the final part of the project, the latitude and longitude values of the barrios will be used as centers to explore the venues in a short radius by querying the Foursquare API. \n",
        "\n",
        "The final part of the project will comment the most relevant results performing a K-means clustering analysis of the districts"
      ]
    }
  ]
}